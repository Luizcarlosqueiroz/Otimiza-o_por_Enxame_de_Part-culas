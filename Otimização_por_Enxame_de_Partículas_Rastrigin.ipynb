{
  "nbformat": 4,
  "nbformat_minor": 0,
  "metadata": {
    "colab": {
      "name": "Otimização por Enxame de Partículas - Rastrigin.ipynb",
      "provenance": [],
      "collapsed_sections": [],
      "authorship_tag": "ABX9TyPFc2+gD1aQgAuw5BngDnRf",
      "include_colab_link": true
    },
    "kernelspec": {
      "name": "python3",
      "display_name": "Python 3"
    },
    "language_info": {
      "name": "python"
    }
  },
  "cells": [
    {
      "cell_type": "markdown",
      "metadata": {
        "id": "view-in-github",
        "colab_type": "text"
      },
      "source": [
        "<a href=\"https://colab.research.google.com/github/Luizcarlosqueiroz/Otimizacao_por_Enxame_de_Particulas/blob/main/Otimiza%C3%A7%C3%A3o_por_Enxame_de_Part%C3%ADculas_Rastrigin.ipynb\" target=\"_parent\"><img src=\"https://colab.research.google.com/assets/colab-badge.svg\" alt=\"Open In Colab\"/></a>"
      ]
    },
    {
      "cell_type": "markdown",
      "metadata": {
        "id": "W5UZi8QbT7e3"
      },
      "source": [
        "## Importar as Bibliotecas Básicas"
      ]
    },
    {
      "cell_type": "code",
      "metadata": {
        "id": "Nz26elL6Q0rK"
      },
      "source": [
        "import random\n",
        "import math\n",
        "import matplotlib.pyplot as plt\n",
        "import numpy as np "
      ],
      "execution_count": 1,
      "outputs": []
    },
    {
      "cell_type": "markdown",
      "metadata": {
        "id": "TQ7RUNz8V4eM"
      },
      "source": [
        "## Função Objetivo (Rastrigin)\n",
        "$$f(x_1 \\cdots x_n) = 10n + \\sum_{i=1}^n (x_i^2 -10cos(2\\pi x_i))$$\n",
        "$$-5.12 \\leq x_i \\leq 5.12$$ "
      ]
    },
    {
      "cell_type": "code",
      "metadata": {
        "id": "RFWOC9IQUGFj"
      },
      "source": [
        "def funcao_objetivo(X):\n",
        "  A = 10\n",
        "  n = 2\n",
        "  y = A*n + sum([(x**n - A * np.cos(n * math.pi * x)) for x in X])\n",
        "  return y"
      ],
      "execution_count": 2,
      "outputs": []
    },
    {
      "cell_type": "code",
      "metadata": {
        "colab": {
          "base_uri": "https://localhost:8080/"
        },
        "id": "tNpu38NUnhk7",
        "outputId": "bc46c7da-abe2-49f0-a813-cc46bfabcb80"
      },
      "source": [
        "a = np.array([1,2,3,4])\n",
        "funcao_objetivo(a)"
      ],
      "execution_count": 3,
      "outputs": [
        {
          "output_type": "execute_result",
          "data": {
            "text/plain": [
              "10.0"
            ]
          },
          "metadata": {},
          "execution_count": 3
        }
      ]
    },
    {
      "cell_type": "markdown",
      "metadata": {
        "id": "pQcpseneqgtj"
      },
      "source": [
        "### Posição Inicial e Atualização"
      ]
    },
    {
      "cell_type": "code",
      "metadata": {
        "id": "sdi3hzIDodR4"
      },
      "source": [
        "def initPosition(Np, Nd, xMin, xMax):\n",
        "  return xMin + np.random.rand(Np, Nd)*(xMax-xMin)\n"
      ],
      "execution_count": 4,
      "outputs": []
    },
    {
      "cell_type": "code",
      "metadata": {
        "id": "lFqiofAHo7Yx",
        "colab": {
          "base_uri": "https://localhost:8080/",
          "height": 167
        },
        "outputId": "f0e9943c-4724-4040-a123-e42a5c857f6d"
      },
      "source": [
        "initPosition(10,3)"
      ],
      "execution_count": 5,
      "outputs": [
        {
          "output_type": "error",
          "ename": "TypeError",
          "evalue": "ignored",
          "traceback": [
            "\u001b[0;31m---------------------------------------------------------------------------\u001b[0m",
            "\u001b[0;31mTypeError\u001b[0m                                 Traceback (most recent call last)",
            "\u001b[0;32m<ipython-input-5-9ddaa8614980>\u001b[0m in \u001b[0;36m<module>\u001b[0;34m()\u001b[0m\n\u001b[0;32m----> 1\u001b[0;31m \u001b[0minitPosition\u001b[0m\u001b[0;34m(\u001b[0m\u001b[0;36m10\u001b[0m\u001b[0;34m,\u001b[0m\u001b[0;36m3\u001b[0m\u001b[0;34m)\u001b[0m\u001b[0;34m\u001b[0m\u001b[0;34m\u001b[0m\u001b[0m\n\u001b[0m",
            "\u001b[0;31mTypeError\u001b[0m: initPosition() missing 2 required positional arguments: 'xMin' and 'xMax'"
          ]
        }
      ]
    },
    {
      "cell_type": "code",
      "metadata": {
        "id": "5qSVh1uppWeW"
      },
      "source": [
        "def updatePosition (R, V, Np, Nd, xMin, xMax):\n",
        "\n",
        "  R += V\n",
        "\n",
        "  # Caso a particula fuja do domínio de busca desejado\n",
        "  for particle in range(Np):\n",
        "    for dimension in range(Nd):\n",
        "      if R[particle][dimension] > xMax:\n",
        "        R[particle][dimension] = xMax\n",
        "      if R[particle][dimension] < xMin:\n",
        "        R[particle][dimension] = xMin\n",
        "        \n",
        "  return R"
      ],
      "execution_count": 11,
      "outputs": []
    },
    {
      "cell_type": "markdown",
      "metadata": {
        "id": "vEyK2hpsvJ-7"
      },
      "source": [
        "### Velocidade e Atualização"
      ]
    },
    {
      "cell_type": "code",
      "metadata": {
        "id": "v3qfS5FfqDbe"
      },
      "source": [
        "def initVelocity(Np, Nd, vMin, vMax):\n",
        "    V = vMin + np.random.rand(Np, Nd)*(vMax-vMin)\n",
        "    return V"
      ],
      "execution_count": 6,
      "outputs": []
    },
    {
      "cell_type": "code",
      "metadata": {
        "id": "S3J8fe5jvyL6"
      },
      "source": [
        "def updateVelocity(R, V, Np, Nd, w, c1, c2, vMin, vMax, chi, pBestPos, gBestPos):\n",
        "    \n",
        "    r1 = np.random.rand()\n",
        "    r2 = np.random.rand()\n",
        "\n",
        "    for particle in range(Np):\n",
        "        V[particle, :] = chi * (w * V[particle, :] + r1*c1*(pBestPos[particle, :] - R[particle, :]) + r2*c2*(gBestPos - R[particle, :]))\n",
        "\n",
        "        for dimension in range(Nd):\n",
        "            if V[particle][dimension] > vMax: \n",
        "                V[particle][dimension] = vMax\n",
        "            if V[particle][dimension] < vMin: \n",
        "                V[particle][dimension] = vMin\n",
        "\n",
        "    return V"
      ],
      "execution_count": 7,
      "outputs": []
    },
    {
      "cell_type": "code",
      "metadata": {
        "id": "pA8YPTeCyDzg"
      },
      "source": [
        "def updateFitness(R, Np, gBestValue, gBestPos, pBestValue, pBestPos):\n",
        "\n",
        "    for particle in range(Np):\n",
        "        M = funcao_objetivo(R[particle, :])\n",
        "\n",
        "        if M < gBestValue:\n",
        "            gBestValue = M\n",
        "            gBestPos = R[particle, :]\n",
        "\n",
        "        if M < pBestValue[particle]:\n",
        "            pBestValue[particle] = M\n",
        "            pBestPos[particle, :] = R[particle, :]\n",
        "\n",
        "    return gBestValue, gBestPos, pBestValue, pBestPos"
      ],
      "execution_count": 8,
      "outputs": []
    },
    {
      "cell_type": "markdown",
      "metadata": {
        "id": "xhSQupaL0jBk"
      },
      "source": [
        "## Código Final"
      ]
    },
    {
      "cell_type": "code",
      "metadata": {
        "id": "lmeaHlP70itS"
      },
      "source": [
        "lista_de_gbests = []\n",
        "\n",
        "for _ in range(30):\n",
        "\n",
        "  #Número de particulas (mudando do padrão para teste), Número de dimensões, Número de Iterações\n",
        "  Np, Nd, Nt = 25, 2, 500\n",
        "  #Pesos para atualizar a velocidade (seguindo o padrão)\n",
        "  c1, c2 = 2.05 , 2.05\n",
        "  #Definição do min e max do coeficiente de inércia\n",
        "  wMin, wMax = 0.4, 0.9\n",
        "\n",
        "  #Espaço (de acordo com os limites dados pela função de Rastring)\n",
        "  xMin, xMax = -5.12 , 5.12\n",
        "  #Velocidades (imaginando que as particulas podem se mover menos, dado um espaço amostral menor)\n",
        "  vMin, vMax = 0.15*xMin , 0.15*xMax\n",
        "\n",
        "  #Visto que o problema é de minimização, inicializando os best's com valor muito altos\n",
        "  gBestValue = float(\"inf\")\n",
        "  pBestValue = [float(\"inf\")] * Np\n",
        "\n",
        "  pBestPos = np.zeros((Np, Nd))\n",
        "  gBestPos = np.zeros(Nd)\n",
        "\n",
        "  #Calculando o fator de Clerck\n",
        "  #Considerando phi > 4, o chi será de 0.7, fazendo com que a V esteja sempre diminuindo\n",
        "  phi = c1 + c2\n",
        "  chi = 2.0/abs(2.0-phi-np.sqrt(pow(phi, 2)-4*phi))\n",
        "\n",
        "  #Inicializando as particulas e velocidade\n",
        "  R = initPosition(Np, Nd, xMin, xMax)\n",
        "  V = initVelocity(Np, Nd, vMin, vMax)\n",
        "\n",
        "  history = []\n",
        "\n",
        "  for j in range (0, Nt):\n",
        "\n",
        "    R = updatePosition(R, V, Np, Nd, xMin, xMax)\n",
        "\n",
        "    gBestValue, gBestPos, pBestValue, pBestPos = updateFitness(R, Np, gBestValue, gBestPos, pBestValue, pBestPos)\n",
        "    history.append(gBestValue)\n",
        "\n",
        "    w = wMax - ((wMax-wMin)/Nt)*j\n",
        "    V = updateVelocity(R, V, Np, Nd, w, c1, c2, vMin, vMax, chi, pBestPos, gBestPos)\n",
        "\n",
        "  lista_de_gbests.append(gBestValue)"
      ],
      "execution_count": 12,
      "outputs": []
    },
    {
      "cell_type": "code",
      "metadata": {
        "colab": {
          "base_uri": "https://localhost:8080/"
        },
        "id": "-017aa8h6fq6",
        "outputId": "bc5f5838-af1e-4913-f92f-af089c7c4977"
      },
      "source": [
        "lista_de_gbests"
      ],
      "execution_count": 13,
      "outputs": [
        {
          "output_type": "execute_result",
          "data": {
            "text/plain": [
              "[0.0,\n",
              " 0.0,\n",
              " 0.9949590570932898,\n",
              " 0.0,\n",
              " 0.0,\n",
              " 2.5828228444879642e-11,\n",
              " 0.0,\n",
              " 0.0,\n",
              " 0.0,\n",
              " 0.0,\n",
              " 0.0,\n",
              " 0.0,\n",
              " 0.0,\n",
              " 0.9949590570932898,\n",
              " 0.0,\n",
              " 0.0,\n",
              " 0.0,\n",
              " 0.0,\n",
              " 0.0,\n",
              " 0.9949590570932898,\n",
              " 0.0,\n",
              " 0.0,\n",
              " 0.0,\n",
              " 0.0,\n",
              " 0.9949590570932898,\n",
              " 0.0,\n",
              " 0.0,\n",
              " 0.0,\n",
              " 0.0,\n",
              " 0.0]"
            ]
          },
          "metadata": {},
          "execution_count": 13
        }
      ]
    },
    {
      "cell_type": "markdown",
      "metadata": {
        "id": "63gYo7dQ8LDE"
      },
      "source": [
        "### Conclusão interessante: O resultado de 100 e 500 iterações são difere muito. Mas com poucas iterações trazem resultados 'ruins'"
      ]
    },
    {
      "cell_type": "markdown",
      "metadata": {
        "id": "Z7LYUoa6XG6C"
      },
      "source": [
        "### Tentativas frustradas de rodar a API"
      ]
    },
    {
      "cell_type": "code",
      "metadata": {
        "id": "8_LpAIw2WY6v"
      },
      "source": [
        "!pip install pyswarms\n",
        "import pyswarms as ps\n",
        "from pyswarms.utils.functions import single_obj as fx"
      ],
      "execution_count": null,
      "outputs": []
    },
    {
      "cell_type": "code",
      "metadata": {
        "id": "XnM-Tlt7fl3q"
      },
      "source": [
        "options = {'c1': 0.5, 'c2': 0.3, 'w':0.9, 'k': 2, 'p': 2}"
      ],
      "execution_count": null,
      "outputs": []
    },
    {
      "cell_type": "code",
      "metadata": {
        "id": "qz0o5iBneKOV"
      },
      "source": [
        "optimizer = ps.single.GlobalBestPSO(n_particles=10, dimensions=2, options=options , bounds=bounds)"
      ],
      "execution_count": null,
      "outputs": []
    },
    {
      "cell_type": "code",
      "metadata": {
        "colab": {
          "base_uri": "https://localhost:8080/"
        },
        "id": "h1UmyQv-fzOh",
        "outputId": "e3844634-a612-4710-dea1-629b174c5ac6"
      },
      "source": [
        "cost, pos = optimizer.optimize(fx.sphere, iters=1000)"
      ],
      "execution_count": null,
      "outputs": [
        {
          "output_type": "stream",
          "name": "stderr",
          "text": [
            "2021-11-15 21:28:29,035 - pyswarms.single.global_best - INFO - Optimize for 1000 iters with {'c1': 0.5, 'c2': 0.3, 'w': 0.9, 'k': 2, 'p': 2}\n",
            "pyswarms.single.global_best: 100%|██████████|1000/1000, best_cost=3.39e-79\n",
            "2021-11-15 21:28:30,891 - pyswarms.single.global_best - INFO - Optimization finished | best cost: 3.386393126192514e-79, best pos: [ 4.96416102e-40 -3.03661599e-40]\n"
          ]
        }
      ]
    },
    {
      "cell_type": "code",
      "metadata": {
        "id": "n2ofntd6V300"
      },
      "source": [
        "max_bound = 5.12 * np.ones(2)\n",
        "min_bound = - max_bound\n",
        "bounds = (min_bound, max_bound)\n",
        "#numero de variavies\n",
        "nv = 2\n",
        "# considerando que é uma minimização, negativo\n",
        "mm = -1 "
      ],
      "execution_count": null,
      "outputs": []
    }
  ]
}