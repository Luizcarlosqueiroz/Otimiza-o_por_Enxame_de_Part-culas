{
  "nbformat": 4,
  "nbformat_minor": 0,
  "metadata": {
    "colab": {
      "name": "Otimização por Enxame de Partículas - Rosenbrock.ipynb",
      "provenance": [],
      "collapsed_sections": [],
      "authorship_tag": "ABX9TyN1VM+YJ9Of1Ku5bfSBwMtG",
      "include_colab_link": true
    },
    "kernelspec": {
      "name": "python3",
      "display_name": "Python 3"
    },
    "language_info": {
      "name": "python"
    }
  },
  "cells": [
    {
      "cell_type": "markdown",
      "metadata": {
        "id": "view-in-github",
        "colab_type": "text"
      },
      "source": [
        "<a href=\"https://colab.research.google.com/github/Luizcarlosqueiroz/Otimizacao_por_Enxame_de_Particulas/blob/main/Otimiza%C3%A7%C3%A3o_por_Enxame_de_Part%C3%ADculas_Rosenbrock.ipynb\" target=\"_parent\"><img src=\"https://colab.research.google.com/assets/colab-badge.svg\" alt=\"Open In Colab\"/></a>"
      ]
    },
    {
      "cell_type": "markdown",
      "metadata": {
        "id": "W5UZi8QbT7e3"
      },
      "source": [
        "## Importar as Bibliotecas Básicas"
      ]
    },
    {
      "cell_type": "code",
      "metadata": {
        "id": "Nz26elL6Q0rK"
      },
      "source": [
        "import random\n",
        "import math\n",
        "import numpy as np "
      ],
      "execution_count": 1,
      "outputs": []
    },
    {
      "cell_type": "markdown",
      "metadata": {
        "id": "TQ7RUNz8V4eM"
      },
      "source": [
        "## Função Objetivo (Rosenbrock)\n",
        "$$f(x_1 \\cdots x_n) = \\sum_{i=1}^{n-1} (100(x_i^2 - x_{i+1})^2 + (1-x_i)^2)$$ \n",
        "$$-2.048 \\leq x_i \\leq 2.048$$ \n",
        "$$\\text{minimum at }f(1, 1, \\cdots, 1) = 0$$ "
      ]
    },
    {
      "cell_type": "code",
      "metadata": {
        "id": "RFWOC9IQUGFj"
      },
      "source": [
        "#https://www.cs.unm.edu/~neal.holts/dga/benchmarkFunction/rosenbrock.html\n",
        "\n",
        "def funcao_objetivo(X):\n",
        "  x, y = X\n",
        "  return (1-x)**2 + 100. * (y-x**2)**2"
      ],
      "execution_count": 2,
      "outputs": []
    },
    {
      "cell_type": "markdown",
      "metadata": {
        "id": "pQcpseneqgtj"
      },
      "source": [
        "### Posição Inicial e Atualização"
      ]
    },
    {
      "cell_type": "code",
      "metadata": {
        "id": "sdi3hzIDodR4"
      },
      "source": [
        "def initPosition(Np, Nd, xMin, xMax):\n",
        "  return xMin + np.random.rand(Np, Nd)*(xMax-xMin)\n"
      ],
      "execution_count": 3,
      "outputs": []
    },
    {
      "cell_type": "code",
      "metadata": {
        "id": "5qSVh1uppWeW"
      },
      "source": [
        "def updatePosition (R, V, Np, Nd, xMin, xMax):\n",
        "\n",
        "  R += V\n",
        "\n",
        "  # Caso a particula fuja do domínio de busca desejado\n",
        "  for particle in range(Np):\n",
        "    for dimension in range(Nd):\n",
        "      if R[particle][dimension] > xMax:\n",
        "        R[particle][dimension] = xMax\n",
        "      if R[particle][dimension] < xMin:\n",
        "        R[particle][dimension] = xMin\n",
        "        \n",
        "  return R"
      ],
      "execution_count": 4,
      "outputs": []
    },
    {
      "cell_type": "markdown",
      "metadata": {
        "id": "vEyK2hpsvJ-7"
      },
      "source": [
        "### Velocidade e Atualização"
      ]
    },
    {
      "cell_type": "code",
      "metadata": {
        "id": "v3qfS5FfqDbe"
      },
      "source": [
        "def initVelocity(Np, Nd, vMin, vMax):\n",
        "    V = vMin + np.random.rand(Np, Nd)*(vMax-vMin)\n",
        "    return V"
      ],
      "execution_count": 5,
      "outputs": []
    },
    {
      "cell_type": "code",
      "metadata": {
        "id": "S3J8fe5jvyL6"
      },
      "source": [
        "def updateVelocity(R, V, Np, Nd, w, c1, c2, vMin, vMax, chi, pBestPos, gBestPos):\n",
        "    \n",
        "    r1 = np.random.rand()\n",
        "    r2 = np.random.rand()\n",
        "\n",
        "    for particle in range(Np):\n",
        "        V[particle, :] = chi * (w * V[particle, :] + r1*c1*(pBestPos[particle, :] - R[particle, :]) + r2*c2*(gBestPos - R[particle, :]))\n",
        "\n",
        "        for dimension in range(Nd):\n",
        "            if V[particle][dimension] > vMax: \n",
        "                V[particle][dimension] = vMax\n",
        "            if V[particle][dimension] < vMin: \n",
        "                V[particle][dimension] = vMin\n",
        "\n",
        "    return V"
      ],
      "execution_count": 6,
      "outputs": []
    },
    {
      "cell_type": "code",
      "metadata": {
        "id": "pA8YPTeCyDzg"
      },
      "source": [
        "def updateFitness(R, Np, gBestValue, gBestPos, pBestValue, pBestPos):\n",
        "\n",
        "    for particle in range(Np):\n",
        "        M = funcao_objetivo(R[particle, :])\n",
        "\n",
        "        if M < gBestValue:\n",
        "            gBestValue = M\n",
        "            gBestPos = R[particle, :]\n",
        "\n",
        "        if M < pBestValue[particle]:\n",
        "            pBestValue[particle] = M\n",
        "            pBestPos[particle, :] = R[particle, :]\n",
        "\n",
        "    return gBestValue, gBestPos, pBestValue, pBestPos"
      ],
      "execution_count": 7,
      "outputs": []
    },
    {
      "cell_type": "markdown",
      "metadata": {
        "id": "xhSQupaL0jBk"
      },
      "source": [
        "## Código Final"
      ]
    },
    {
      "cell_type": "code",
      "metadata": {
        "id": "lmeaHlP70itS"
      },
      "source": [
        "lista_de_gbests = []\n",
        "\n",
        "for _ in range(30):\n",
        "\n",
        "  #Número de particulas, Número de dimensões, Número de Iterações\n",
        "  Np, Nd, Nt = 20, 2, 100\n",
        "  #Pesos para atualizar a velocidade (seguindo o padrão)\n",
        "  c1, c2 = 2.05 , 2.05\n",
        "  #Definição do min e max do coeficiente de inércia\n",
        "  wMin, wMax = 0.4, 0.9\n",
        "\n",
        "  #Espaço (de acordo com os limites dados pela função de Rastring)\n",
        "  xMin, xMax = -5.12 , 5.12\n",
        "  #Velocidades (imaginando que as particulas podem se mover menos, dado um espaço amostral menor)\n",
        "  vMin, vMax = 0.15*xMin , 0.15*xMax\n",
        "\n",
        "  #Visto que o problema é de minimização, inicializando os best's com valor muito altos\n",
        "  gBestValue = float(\"inf\")\n",
        "  pBestValue = [float(\"inf\")] * Np\n",
        "\n",
        "  pBestPos = np.zeros((Np, Nd))\n",
        "  gBestPos = np.zeros(Nd)\n",
        "\n",
        "  #Calculando o fator de Clerck\n",
        "  #Considerando phi > 4, o chi será de 0.7, fazendo com que a V esteja sempre diminuindo\n",
        "  phi = c1 + c2\n",
        "  chi = 2.0/abs(2.0-phi-np.sqrt(pow(phi, 2)-4*phi))\n",
        "\n",
        "  #Inicializando as particulas e velocidade\n",
        "  R = initPosition(Np, Nd, xMin, xMax)\n",
        "  V = initVelocity(Np, Nd, vMin, vMax)\n",
        "\n",
        "  history = []\n",
        "\n",
        "  for j in range (0, Nt):\n",
        "\n",
        "    R = updatePosition(R, V, Np, Nd, xMin, xMax)\n",
        "\n",
        "    gBestValue, gBestPos, pBestValue, pBestPos = updateFitness(R, Np, gBestValue, gBestPos, pBestValue, pBestPos)\n",
        "    history.append(gBestValue)\n",
        "\n",
        "    w = wMax - ((wMax-wMin)/Nt)*j\n",
        "    V = updateVelocity(R, V, Np, Nd, w, c1, c2, vMin, vMax, chi, pBestPos, gBestPos)\n",
        "\n",
        "  lista_de_gbests.append(gBestValue)"
      ],
      "execution_count": 8,
      "outputs": []
    },
    {
      "cell_type": "code",
      "metadata": {
        "colab": {
          "base_uri": "https://localhost:8080/"
        },
        "id": "-017aa8h6fq6",
        "outputId": "a61ed296-c07f-4cde-de02-b8502bd5b7d5"
      },
      "source": [
        "lista_de_gbests"
      ],
      "execution_count": 9,
      "outputs": [
        {
          "output_type": "execute_result",
          "data": {
            "text/plain": [
              "[6.834513488983706e-21,\n",
              " 4.700556575528635e-19,\n",
              " 2.718869103682414e-20,\n",
              " 8.94862198179513e-19,\n",
              " 1.2914633068319704e-19,\n",
              " 1.4894718525005007e-20,\n",
              " 6.068524499846889e-19,\n",
              " 4.413158570043958e-18,\n",
              " 7.063549647693548e-21,\n",
              " 8.103411466032567e-21,\n",
              " 1.207692443904195e-22,\n",
              " 2.8993761870482033e-16,\n",
              " 6.783973227042864e-19,\n",
              " 2.7177764035169902e-17,\n",
              " 1.1377186863362342e-22,\n",
              " 2.5233298860067707e-18,\n",
              " 1.5236650353920955e-17,\n",
              " 2.935312593624044e-19,\n",
              " 8.160184164272163e-21,\n",
              " 5.1786191952799035e-21,\n",
              " 6.1301643360271484e-21,\n",
              " 4.968581976120647e-21,\n",
              " 6.192602676626088e-24,\n",
              " 1.0989926942611979e-15,\n",
              " 4.082560759214819e-17,\n",
              " 2.355222243485286e-24,\n",
              " 8.374439341895024e-19,\n",
              " 1.7627440435855826e-20,\n",
              " 4.206629828986334e-19,\n",
              " 1.0930658128925906e-18]"
            ]
          },
          "metadata": {},
          "execution_count": 9
        }
      ]
    }
  ]
}