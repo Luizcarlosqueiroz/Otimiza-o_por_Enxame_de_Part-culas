{
  "nbformat": 4,
  "nbformat_minor": 0,
  "metadata": {
    "colab": {
      "name": "Otimização por Enxame de Partículas - Sphere.ipynb",
      "provenance": [],
      "collapsed_sections": [],
      "authorship_tag": "ABX9TyMKBZleN4IFjmETR1/VydS6",
      "include_colab_link": true
    },
    "kernelspec": {
      "name": "python3",
      "display_name": "Python 3"
    },
    "language_info": {
      "name": "python"
    }
  },
  "cells": [
    {
      "cell_type": "markdown",
      "metadata": {
        "id": "view-in-github",
        "colab_type": "text"
      },
      "source": [
        "<a href=\"https://colab.research.google.com/github/Luizcarlosqueiroz/Otimizacao_por_Enxame_de_Particulas/blob/main/Otimiza%C3%A7%C3%A3o_por_Enxame_de_Part%C3%ADculas_Sphere.ipynb\" target=\"_parent\"><img src=\"https://colab.research.google.com/assets/colab-badge.svg\" alt=\"Open In Colab\"/></a>"
      ]
    },
    {
      "cell_type": "markdown",
      "metadata": {
        "id": "W5UZi8QbT7e3"
      },
      "source": [
        "## Importar as Bibliotecas Básicas"
      ]
    },
    {
      "cell_type": "code",
      "metadata": {
        "id": "Nz26elL6Q0rK"
      },
      "source": [
        "import random\n",
        "import math\n",
        "import numpy as np "
      ],
      "execution_count": 3,
      "outputs": []
    },
    {
      "cell_type": "markdown",
      "metadata": {
        "id": "TQ7RUNz8V4eM"
      },
      "source": [
        "## Função Objetivo (Sphere)\n",
        "\n",
        "$$f(x_1 \\cdots x_n) = \\sum_{i=1}^n x_i^2$$\n",
        "\n",
        "$$-5.12 \\leq x_i \\leq 5.12$$\n",
        "\n",
        "$$\\text{minimum at }f(0, \\cdots, 0) = 0$$ "
      ]
    },
    {
      "cell_type": "code",
      "metadata": {
        "id": "RFWOC9IQUGFj"
      },
      "source": [
        "#https://www.cs.unm.edu/~neal.holts/dga/benchmarkFunction/sphere.html\n",
        "\n",
        "def funcao_objetivo(x):\n",
        "  z = np.sum(np.square(x))\n",
        "\n",
        "  return z"
      ],
      "execution_count": 10,
      "outputs": []
    },
    {
      "cell_type": "markdown",
      "metadata": {
        "id": "pQcpseneqgtj"
      },
      "source": [
        "### Posição Inicial e Atualização"
      ]
    },
    {
      "cell_type": "code",
      "metadata": {
        "id": "sdi3hzIDodR4"
      },
      "source": [
        "def initPosition(Np, Nd, xMin, xMax):\n",
        "  return xMin + np.random.rand(Np, Nd)*(xMax-xMin)\n"
      ],
      "execution_count": 4,
      "outputs": []
    },
    {
      "cell_type": "code",
      "metadata": {
        "id": "5qSVh1uppWeW"
      },
      "source": [
        "def updatePosition (R, V, Np, Nd, xMin, xMax):\n",
        "\n",
        "  R += V\n",
        "\n",
        "  # Caso a particula fuja do domínio de busca desejado\n",
        "  for particle in range(Np):\n",
        "    for dimension in range(Nd):\n",
        "      if R[particle][dimension] > xMax:\n",
        "        R[particle][dimension] = xMax\n",
        "      if R[particle][dimension] < xMin:\n",
        "        R[particle][dimension] = xMin\n",
        "        \n",
        "  return R"
      ],
      "execution_count": 5,
      "outputs": []
    },
    {
      "cell_type": "markdown",
      "metadata": {
        "id": "vEyK2hpsvJ-7"
      },
      "source": [
        "### Velocidade e Atualização"
      ]
    },
    {
      "cell_type": "code",
      "metadata": {
        "id": "v3qfS5FfqDbe"
      },
      "source": [
        "def initVelocity(Np, Nd, vMin, vMax):\n",
        "    V = vMin + np.random.rand(Np, Nd)*(vMax-vMin)\n",
        "    return V"
      ],
      "execution_count": 6,
      "outputs": []
    },
    {
      "cell_type": "code",
      "metadata": {
        "id": "S3J8fe5jvyL6"
      },
      "source": [
        "def updateVelocity(R, V, Np, Nd, w, c1, c2, vMin, vMax, chi, pBestPos, gBestPos):\n",
        "    \n",
        "    r1 = np.random.rand()\n",
        "    r2 = np.random.rand()\n",
        "\n",
        "    for particle in range(Np):\n",
        "        V[particle, :] = chi * (w * V[particle, :] + r1*c1*(pBestPos[particle, :] - R[particle, :]) + r2*c2*(gBestPos - R[particle, :]))\n",
        "\n",
        "        for dimension in range(Nd):\n",
        "            if V[particle][dimension] > vMax: \n",
        "                V[particle][dimension] = vMax\n",
        "            if V[particle][dimension] < vMin: \n",
        "                V[particle][dimension] = vMin\n",
        "\n",
        "    return V"
      ],
      "execution_count": 7,
      "outputs": []
    },
    {
      "cell_type": "code",
      "metadata": {
        "id": "pA8YPTeCyDzg"
      },
      "source": [
        "def updateFitness(R, Np, gBestValue, gBestPos, pBestValue, pBestPos):\n",
        "\n",
        "    for particle in range(Np):\n",
        "        M = funcao_objetivo(R[particle, :])\n",
        "\n",
        "        if M < gBestValue:\n",
        "            gBestValue = M\n",
        "            gBestPos = R[particle, :]\n",
        "\n",
        "        if M < pBestValue[particle]:\n",
        "            pBestValue[particle] = M\n",
        "            pBestPos[particle, :] = R[particle, :]\n",
        "\n",
        "    return gBestValue, gBestPos, pBestValue, pBestPos"
      ],
      "execution_count": 8,
      "outputs": []
    },
    {
      "cell_type": "markdown",
      "metadata": {
        "id": "xhSQupaL0jBk"
      },
      "source": [
        "## Código Final"
      ]
    },
    {
      "cell_type": "code",
      "metadata": {
        "id": "lmeaHlP70itS"
      },
      "source": [
        "lista_de_gbests = []\n",
        "\n",
        "for _ in range(30):\n",
        "\n",
        "  #Número de particulas, Número de dimensões, Número de Iterações\n",
        "  Np, Nd, Nt = 20, 2, 500\n",
        "  #Pesos para atualizar a velocidade (seguindo o padrão)\n",
        "  c1, c2 = 2.05 , 2.05\n",
        "  #Definição do min e max do coeficiente de inércia\n",
        "  wMin, wMax = 0.4, 0.9\n",
        "\n",
        "  #Espaço (de acordo com os limites dados pela função de Rastring)\n",
        "  xMin, xMax = -5.12 , 5.12\n",
        "  #Velocidades (imaginando que as particulas podem se mover menos, dado um espaço amostral menor)\n",
        "  vMin, vMax = 0.15*xMin , 0.15*xMax\n",
        "\n",
        "  #Visto que o problema é de minimização, inicializando os best's com valor muito altos\n",
        "  gBestValue = float(\"inf\")\n",
        "  pBestValue = [float(\"inf\")] * Np\n",
        "\n",
        "  pBestPos = np.zeros((Np, Nd))\n",
        "  gBestPos = np.zeros(Nd)\n",
        "\n",
        "  #Calculando o fator de Clerck\n",
        "  #Considerando phi > 4, o chi será de 0.7, fazendo com que a V esteja sempre diminuindo\n",
        "  phi = c1 + c2\n",
        "  chi = 2.0/abs(2.0-phi-np.sqrt(pow(phi, 2)-4*phi))\n",
        "\n",
        "  #Inicializando as particulas e velocidade\n",
        "  R = initPosition(Np, Nd, xMin, xMax)\n",
        "  V = initVelocity(Np, Nd, vMin, vMax)\n",
        "\n",
        "  history = []\n",
        "\n",
        "  for j in range (0, Nt):\n",
        "\n",
        "    R = updatePosition(R, V, Np, Nd, xMin, xMax)\n",
        "\n",
        "    gBestValue, gBestPos, pBestValue, pBestPos = updateFitness(R, Np, gBestValue, gBestPos, pBestValue, pBestPos)\n",
        "    history.append(gBestValue)\n",
        "\n",
        "    w = wMax - ((wMax-wMin)/Nt)*j\n",
        "    V = updateVelocity(R, V, Np, Nd, w, c1, c2, vMin, vMax, chi, pBestPos, gBestPos)\n",
        "\n",
        "  lista_de_gbests.append(gBestValue)"
      ],
      "execution_count": 11,
      "outputs": []
    },
    {
      "cell_type": "code",
      "metadata": {
        "colab": {
          "base_uri": "https://localhost:8080/"
        },
        "id": "-017aa8h6fq6",
        "outputId": "fa2218bd-78fd-4f46-ceec-d852bb1b843a"
      },
      "source": [
        "lista_de_gbests"
      ],
      "execution_count": 12,
      "outputs": [
        {
          "output_type": "execute_result",
          "data": {
            "text/plain": [
              "[2.00284328707823e-104,\n",
              " 2.1045508830327405e-112,\n",
              " 1.3683356748176795e-104,\n",
              " 8.396526588105391e-101,\n",
              " 4.440187863969121e-107,\n",
              " 2.6221304806199447e-103,\n",
              " 3.9963264748761457e-106,\n",
              " 8.717852446122819e-106,\n",
              " 6.517054189122477e-105,\n",
              " 4.461461748846821e-108,\n",
              " 7.1362894153960506e-99,\n",
              " 3.979666700800981e-104,\n",
              " 2.019751663012875e-105,\n",
              " 1.881773592075804e-71,\n",
              " 2.951423552377135e-105,\n",
              " 3.6485805477095182e-99,\n",
              " 3.668784628430352e-107,\n",
              " 1.7230330858728014e-103,\n",
              " 4.065870672496155e-96,\n",
              " 3.258238490495742e-109,\n",
              " 8.537136457476076e-92,\n",
              " 2.687602639764024e-98,\n",
              " 2.073670832771391e-102,\n",
              " 2.1852692893661194e-65,\n",
              " 6.554809580020007e-111,\n",
              " 2.8524951418286423e-102,\n",
              " 2.7889598917716e-102,\n",
              " 3.7356460077528495e-101,\n",
              " 3.765422745469166e-105,\n",
              " 7.700986500878657e-60]"
            ]
          },
          "metadata": {},
          "execution_count": 12
        }
      ]
    }
  ]
}